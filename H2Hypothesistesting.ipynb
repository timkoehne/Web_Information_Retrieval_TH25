{
 "cells": [
  {
   "cell_type": "markdown",
   "metadata": {},
   "source": [
    "## Step 1: Ensure that libraries are imported"
   ]
  },
  {
   "cell_type": "code",
   "execution_count": 1,
   "metadata": {},
   "outputs": [
    {
     "name": "stdout",
     "output_type": "stream",
     "text": [
      "\n",
      "\u001b[1m[\u001b[0m\u001b[34;49mnotice\u001b[0m\u001b[1;39;49m]\u001b[0m\u001b[39;49m A new release of pip is available: \u001b[0m\u001b[31;49m24.3.1\u001b[0m\u001b[39;49m -> \u001b[0m\u001b[32;49m25.0\u001b[0m\n",
      "\u001b[1m[\u001b[0m\u001b[34;49mnotice\u001b[0m\u001b[1;39;49m]\u001b[0m\u001b[39;49m To update, run: \u001b[0m\u001b[32;49mpython3 -m pip install --upgrade pip\u001b[0m\n"
     ]
    }
   ],
   "source": [
    "!pip3 install tira>=0.0.141 ir-datasets python-terrier==0.10.0"
   ]
  },
  {
   "cell_type": "code",
   "execution_count": 2,
   "metadata": {},
   "outputs": [],
   "source": [
    "!rm -Rf ~/.tira/extracted_datasets/ir-lab-wise-2024/subsampled-ms-marco-ir-lab-20250105-test\n",
    "!rm -Rf ~/.tira/.archived"
   ]
  },
  {
   "cell_type": "code",
   "execution_count": 3,
   "metadata": {},
   "outputs": [
    {
     "name": "stderr",
     "output_type": "stream",
     "text": [
      "/home/codespace/.python/current/lib/python3.12/site-packages/tqdm/auto.py:21: TqdmWarning: IProgress not found. Please update jupyter and ipywidgets. See https://ipywidgets.readthedocs.io/en/stable/user_install.html\n",
      "  from .autonotebook import tqdm as notebook_tqdm\n",
      "PyTerrier 0.10.0 has loaded Terrier 5.7 (built by craigm on 2022-11-10 18:30) and terrier-helper 0.0.7\n",
      "\n",
      "No etc/terrier.properties, using terrier.default.properties for bootstrap configuration.\n"
     ]
    }
   ],
   "source": [
    "# This command loads and starts PyTerrier so that it also works in TIRA.\n",
    "\n",
    "from tira.third_party_integrations import ensure_pyterrier_is_loaded\n",
    "\n",
    "ensure_pyterrier_is_loaded()"
   ]
  },
  {
   "cell_type": "code",
   "execution_count": 4,
   "metadata": {},
   "outputs": [],
   "source": [
    "# PyTerrier must be imported after `ensure_pyterrier_is_loaded` is called.\n",
    "\n",
    "from pyterrier import started, init\n",
    "\n",
    "if not started():\n",
    "    init()"
   ]
  },
  {
   "cell_type": "markdown",
   "metadata": {},
   "source": [
    "## Step 2: Load the dataset"
   ]
  },
  {
   "cell_type": "code",
   "execution_count": 5,
   "metadata": {},
   "outputs": [
    {
     "data": {
      "text/plain": [
       "IRDSDataset('ir-lab-wise-2024/subsampled-ms-marco-ir-lab-20250105-test')"
      ]
     },
     "execution_count": 5,
     "metadata": {},
     "output_type": "execute_result"
    }
   ],
   "source": [
    "from pyterrier import get_dataset\n",
    "\n",
    "dataset = get_dataset('irds:ir-lab-wise-2024/subsampled-ms-marco-ir-lab-20250105-test')\n",
    "dataset"
   ]
  },
  {
   "cell_type": "markdown",
   "metadata": {},
   "source": [
    "## Step 3: Create the retrieval pipeline with TIRA\n",
    "\n",
    "In this example, we will just use two existing retrieval components from TIREx: BM25 and DirichletLM, two lexical rankers.\n",
    "We load the approaches via the TIRA API."
   ]
  },
  {
   "cell_type": "code",
   "execution_count": 6,
   "metadata": {},
   "outputs": [],
   "source": [
    "from tira.rest_api_client import Client\n",
    "\n",
    "tira_client = Client()"
   ]
  },
  {
   "cell_type": "code",
   "execution_count": 7,
   "metadata": {},
   "outputs": [
    {
     "name": "stderr",
     "output_type": "stream",
     "text": [
      "Download: 1.00MiB [00:00, 9.31MiB/s]\n"
     ]
    },
    {
     "name": "stdout",
     "output_type": "stream",
     "text": [
      "Download finished. Extract...\n",
      "Extraction finished:  /home/codespace/.tira/extracted_runs/ir-lab-wise-2024/subsampled-ms-marco-ir-lab-20250105-test/ir-wise-24-th25\n"
     ]
    },
    {
     "data": {
      "text/plain": [
       "TiraSourceTransformer()"
      ]
     },
     "execution_count": 7,
     "metadata": {},
     "output_type": "execute_result"
    }
   ],
   "source": [
    "bo1 = tira_client.pt.from_retriever_submission(\n",
    "    approach='ir-lab-wise-2024/ir-wise-24-th25/BM25 + BO1 Query Expansion',\n",
    "    dataset='subsampled-ms-marco-ir-lab-20250105-test',\n",
    ")\n",
    "bo1"
   ]
  },
  {
   "cell_type": "code",
   "execution_count": 8,
   "metadata": {},
   "outputs": [
    {
     "name": "stderr",
     "output_type": "stream",
     "text": [
      "Download: 1.02MiB [00:00, 9.35MiB/s]\n"
     ]
    },
    {
     "name": "stdout",
     "output_type": "stream",
     "text": [
      "Download finished. Extract...\n",
      "Extraction finished:  /home/codespace/.tira/extracted_runs/ir-lab-wise-2024/subsampled-ms-marco-ir-lab-20250105-test/ir-wise-24-th25\n"
     ]
    },
    {
     "data": {
      "text/plain": [
       "TiraSourceTransformer()"
      ]
     },
     "execution_count": 8,
     "metadata": {},
     "output_type": "execute_result"
    }
   ],
   "source": [
    "querydoc = tira_client.pt.from_retriever_submission(\n",
    "    approach='ir-lab-wise-2024/ir-wise-24-th25/BM25 + query2doc',\n",
    "    dataset='subsampled-ms-marco-ir-lab-20250105-test',\n",
    ")\n",
    "querydoc"
   ]
  },
  {
   "cell_type": "code",
   "execution_count": 9,
   "metadata": {},
   "outputs": [
    {
     "name": "stderr",
     "output_type": "stream",
     "text": [
      "Download: 986kiB [00:00, 8.84MiB/s]"
     ]
    },
    {
     "name": "stdout",
     "output_type": "stream",
     "text": [
      "Download finished. Extract...\n",
      "Extraction finished:  /home/codespace/.tira/extracted_runs/ir-lab-wise-2024/subsampled-ms-marco-ir-lab-20250105-test/ir-wise-24-th25\n"
     ]
    },
    {
     "name": "stderr",
     "output_type": "stream",
     "text": [
      "\n"
     ]
    },
    {
     "data": {
      "text/plain": [
       "TiraSourceTransformer()"
      ]
     },
     "execution_count": 9,
     "metadata": {},
     "output_type": "execute_result"
    }
   ],
   "source": [
    "wordnet = tira_client.pt.from_retriever_submission(\n",
    "    approach='ir-lab-wise-2024/ir-wise-24-th25/BM25 + Wordnet QueryExpansion',\n",
    "    dataset='subsampled-ms-marco-ir-lab-20250105-test',\n",
    ")\n",
    "wordnet"
   ]
  },
  {
   "cell_type": "code",
   "execution_count": 10,
   "metadata": {},
   "outputs": [
    {
     "data": {
      "text/plain": [
       "TiraSourceTransformer()"
      ]
     },
     "execution_count": 10,
     "metadata": {},
     "output_type": "execute_result"
    }
   ],
   "source": [
    "bm25 = tira_client.pt.from_retriever_submission(\n",
    "    approach='ir-lab-wise-2024/ir-wise-24-uk-ir-1/BM25',\n",
    "    dataset='subsampled-ms-marco-ir-lab-20250105-test',\n",
    ")\n",
    "bm25"
   ]
  },
  {
   "cell_type": "markdown",
   "metadata": {},
   "source": [
    "## Step 4: Measure effectiveness\n",
    "\n",
    "Now let us measure the nDCG@10 effectiveness of both systems on the Touché 2020 task 1 dataset."
   ]
  },
  {
   "cell_type": "code",
   "execution_count": 11,
   "metadata": {},
   "outputs": [
    {
     "name": "stdout",
     "output_type": "stream",
     "text": [
      "Download from Zenodo: https://zenodo.org/records/14743268/files/subsampled-ms-marco-ir-lab-20250105-test-truths.zip\n"
     ]
    },
    {
     "name": "stderr",
     "output_type": "stream",
     "text": [
      "Download: 100%|██████████| 50.6k/50.6k [00:00<00:00, 369kiB/s] \n"
     ]
    },
    {
     "name": "stdout",
     "output_type": "stream",
     "text": [
      "Download finished. Extract...\n",
      "Extraction finished:  /home/codespace/.tira/extracted_datasets/ir-lab-wise-2024/subsampled-ms-marco-ir-lab-20250105-test/\n"
     ]
    },
    {
     "data": {
      "text/html": [
       "<div>\n",
       "<style scoped>\n",
       "    .dataframe tbody tr th:only-of-type {\n",
       "        vertical-align: middle;\n",
       "    }\n",
       "\n",
       "    .dataframe tbody tr th {\n",
       "        vertical-align: top;\n",
       "    }\n",
       "\n",
       "    .dataframe thead th {\n",
       "        text-align: right;\n",
       "    }\n",
       "</style>\n",
       "<table border=\"1\" class=\"dataframe\">\n",
       "  <thead>\n",
       "    <tr style=\"text-align: right;\">\n",
       "      <th></th>\n",
       "      <th>name</th>\n",
       "      <th>qid</th>\n",
       "      <th>measure</th>\n",
       "      <th>value</th>\n",
       "    </tr>\n",
       "  </thead>\n",
       "  <tbody>\n",
       "    <tr>\n",
       "      <th>44</th>\n",
       "      <td>BO1 Query Expansion</td>\n",
       "      <td>16</td>\n",
       "      <td>ndcg_cut_10</td>\n",
       "      <td>0.322272</td>\n",
       "    </tr>\n",
       "    <tr>\n",
       "      <th>78</th>\n",
       "      <td>BM25 + query2doc</td>\n",
       "      <td>13</td>\n",
       "      <td>ndcg_cut_10</td>\n",
       "      <td>1.000000</td>\n",
       "    </tr>\n",
       "    <tr>\n",
       "      <th>108</th>\n",
       "      <td>Wordnet QueryExpansion</td>\n",
       "      <td>36</td>\n",
       "      <td>ndcg_cut_10</td>\n",
       "      <td>0.220092</td>\n",
       "    </tr>\n",
       "    <tr>\n",
       "      <th>20</th>\n",
       "      <td>BO1 Query Expansion</td>\n",
       "      <td>24</td>\n",
       "      <td>ndcg_cut_10</td>\n",
       "      <td>0.135685</td>\n",
       "    </tr>\n",
       "    <tr>\n",
       "      <th>3</th>\n",
       "      <td>BO1 Query Expansion</td>\n",
       "      <td>48</td>\n",
       "      <td>ndcg_cut_10</td>\n",
       "      <td>0.472157</td>\n",
       "    </tr>\n",
       "    <tr>\n",
       "      <th>160</th>\n",
       "      <td>BM25</td>\n",
       "      <td>19</td>\n",
       "      <td>ndcg_cut_10</td>\n",
       "      <td>0.425208</td>\n",
       "    </tr>\n",
       "    <tr>\n",
       "      <th>31</th>\n",
       "      <td>BO1 Query Expansion</td>\n",
       "      <td>21</td>\n",
       "      <td>ndcg_cut_10</td>\n",
       "      <td>0.000000</td>\n",
       "    </tr>\n",
       "    <tr>\n",
       "      <th>143</th>\n",
       "      <td>BM25</td>\n",
       "      <td>51</td>\n",
       "      <td>ndcg_cut_10</td>\n",
       "      <td>0.930569</td>\n",
       "    </tr>\n",
       "    <tr>\n",
       "      <th>149</th>\n",
       "      <td>BM25</td>\n",
       "      <td>45</td>\n",
       "      <td>ndcg_cut_10</td>\n",
       "      <td>1.000000</td>\n",
       "    </tr>\n",
       "    <tr>\n",
       "      <th>169</th>\n",
       "      <td>BM25</td>\n",
       "      <td>21</td>\n",
       "      <td>ndcg_cut_10</td>\n",
       "      <td>0.000000</td>\n",
       "    </tr>\n",
       "  </tbody>\n",
       "</table>\n",
       "</div>"
      ],
      "text/plain": [
       "                       name qid      measure     value\n",
       "44      BO1 Query Expansion  16  ndcg_cut_10  0.322272\n",
       "78         BM25 + query2doc  13  ndcg_cut_10  1.000000\n",
       "108  Wordnet QueryExpansion  36  ndcg_cut_10  0.220092\n",
       "20      BO1 Query Expansion  24  ndcg_cut_10  0.135685\n",
       "3       BO1 Query Expansion  48  ndcg_cut_10  0.472157\n",
       "160                    BM25  19  ndcg_cut_10  0.425208\n",
       "31      BO1 Query Expansion  21  ndcg_cut_10  0.000000\n",
       "143                    BM25  51  ndcg_cut_10  0.930569\n",
       "149                    BM25  45  ndcg_cut_10  1.000000\n",
       "169                    BM25  21  ndcg_cut_10  0.000000"
      ]
     },
     "execution_count": 11,
     "metadata": {},
     "output_type": "execute_result"
    }
   ],
   "source": [
    "from pyterrier.pipelines import Experiment\n",
    "\n",
    "experiment = Experiment(\n",
    "    retr_systems=[\n",
    "        bo1,\n",
    "        querydoc,\n",
    "        wordnet,\n",
    "        bm25,\n",
    "    ],\n",
    "    topics=dataset.get_topics(\"query\"),\n",
    "    qrels=dataset.get_qrels(),\n",
    "    eval_metrics=[\"ndcg_cut_10\"],\n",
    "    names=[\n",
    "        \"BO1 Query Expansion\",\n",
    "        \"BM25 + query2doc\",\n",
    "        \"Wordnet QueryExpansion\",\n",
    "        \"BM25\",\n",
    "    ],\n",
    "    perquery=True,\n",
    ")\n",
    "experiment.sample(n=10)"
   ]
  },
  {
   "cell_type": "code",
   "execution_count": 19,
   "metadata": {},
   "outputs": [
    {
     "data": {
      "text/html": [
       "<div>\n",
       "<style scoped>\n",
       "    .dataframe tbody tr th:only-of-type {\n",
       "        vertical-align: middle;\n",
       "    }\n",
       "\n",
       "    .dataframe tbody tr th {\n",
       "        vertical-align: top;\n",
       "    }\n",
       "\n",
       "    .dataframe thead th {\n",
       "        text-align: right;\n",
       "    }\n",
       "</style>\n",
       "<table border=\"1\" class=\"dataframe\">\n",
       "  <thead>\n",
       "    <tr style=\"text-align: right;\">\n",
       "      <th></th>\n",
       "      <th>qid</th>\n",
       "      <th>measure</th>\n",
       "      <th>value_bm25</th>\n",
       "      <th>value_bo1</th>\n",
       "    </tr>\n",
       "  </thead>\n",
       "  <tbody>\n",
       "    <tr>\n",
       "      <th>0</th>\n",
       "      <td>10</td>\n",
       "      <td>ndcg_cut_10</td>\n",
       "      <td>0.546257</td>\n",
       "      <td>0.135685</td>\n",
       "    </tr>\n",
       "    <tr>\n",
       "      <th>1</th>\n",
       "      <td>11</td>\n",
       "      <td>ndcg_cut_10</td>\n",
       "      <td>0.063621</td>\n",
       "      <td>0.063621</td>\n",
       "    </tr>\n",
       "    <tr>\n",
       "      <th>2</th>\n",
       "      <td>12</td>\n",
       "      <td>ndcg_cut_10</td>\n",
       "      <td>0.224663</td>\n",
       "      <td>0.000000</td>\n",
       "    </tr>\n",
       "    <tr>\n",
       "      <th>3</th>\n",
       "      <td>13</td>\n",
       "      <td>ndcg_cut_10</td>\n",
       "      <td>1.000000</td>\n",
       "      <td>1.000000</td>\n",
       "    </tr>\n",
       "    <tr>\n",
       "      <th>4</th>\n",
       "      <td>14</td>\n",
       "      <td>ndcg_cut_10</td>\n",
       "      <td>0.921602</td>\n",
       "      <td>0.864315</td>\n",
       "    </tr>\n",
       "    <tr>\n",
       "      <th>5</th>\n",
       "      <td>16</td>\n",
       "      <td>ndcg_cut_10</td>\n",
       "      <td>0.643404</td>\n",
       "      <td>0.322272</td>\n",
       "    </tr>\n",
       "    <tr>\n",
       "      <th>6</th>\n",
       "      <td>17</td>\n",
       "      <td>ndcg_cut_10</td>\n",
       "      <td>0.000000</td>\n",
       "      <td>0.000000</td>\n",
       "    </tr>\n",
       "    <tr>\n",
       "      <th>7</th>\n",
       "      <td>18</td>\n",
       "      <td>ndcg_cut_10</td>\n",
       "      <td>0.000000</td>\n",
       "      <td>0.000000</td>\n",
       "    </tr>\n",
       "    <tr>\n",
       "      <th>8</th>\n",
       "      <td>19</td>\n",
       "      <td>ndcg_cut_10</td>\n",
       "      <td>0.425208</td>\n",
       "      <td>0.425208</td>\n",
       "    </tr>\n",
       "    <tr>\n",
       "      <th>9</th>\n",
       "      <td>2</td>\n",
       "      <td>ndcg_cut_10</td>\n",
       "      <td>1.000000</td>\n",
       "      <td>1.000000</td>\n",
       "    </tr>\n",
       "  </tbody>\n",
       "</table>\n",
       "</div>"
      ],
      "text/plain": [
       "  qid      measure  value_bm25  value_bo1\n",
       "0  10  ndcg_cut_10    0.546257   0.135685\n",
       "1  11  ndcg_cut_10    0.063621   0.063621\n",
       "2  12  ndcg_cut_10    0.224663   0.000000\n",
       "3  13  ndcg_cut_10    1.000000   1.000000\n",
       "4  14  ndcg_cut_10    0.921602   0.864315\n",
       "5  16  ndcg_cut_10    0.643404   0.322272\n",
       "6  17  ndcg_cut_10    0.000000   0.000000\n",
       "7  18  ndcg_cut_10    0.000000   0.000000\n",
       "8  19  ndcg_cut_10    0.425208   0.425208\n",
       "9   2  ndcg_cut_10    1.000000   1.000000"
      ]
     },
     "execution_count": 19,
     "metadata": {},
     "output_type": "execute_result"
    }
   ],
   "source": [
    "experiment_bm25 = experiment[experiment[\"name\"] == \"BM25\"]\\\n",
    "    .drop(columns=[\"name\"])\n",
    "experiment_bo1 = experiment[experiment[\"name\"] == \"BO1 Query Expansion\"]\\\n",
    "    .drop(columns=[\"name\"])\n",
    "\n",
    "\n",
    "experiment_paired = experiment_bm25.merge(\n",
    "    experiment_bo1,\n",
    "    on=[\"qid\", \"measure\"],\n",
    "    suffixes=(\"_bm25\", \"_bo1\"),\n",
    ")\n",
    "experiment_paired.head(n=10)"
   ]
  },
  {
   "cell_type": "code",
   "execution_count": 22,
   "metadata": {},
   "outputs": [
    {
     "data": {
      "text/html": [
       "<div>\n",
       "<style scoped>\n",
       "    .dataframe tbody tr th:only-of-type {\n",
       "        vertical-align: middle;\n",
       "    }\n",
       "\n",
       "    .dataframe tbody tr th {\n",
       "        vertical-align: top;\n",
       "    }\n",
       "\n",
       "    .dataframe thead th {\n",
       "        text-align: right;\n",
       "    }\n",
       "</style>\n",
       "<table border=\"1\" class=\"dataframe\">\n",
       "  <thead>\n",
       "    <tr style=\"text-align: right;\">\n",
       "      <th></th>\n",
       "      <th>qid</th>\n",
       "      <th>measure</th>\n",
       "      <th>value_bm25</th>\n",
       "      <th>value_querydoc</th>\n",
       "    </tr>\n",
       "  </thead>\n",
       "  <tbody>\n",
       "    <tr>\n",
       "      <th>0</th>\n",
       "      <td>10</td>\n",
       "      <td>ndcg_cut_10</td>\n",
       "      <td>0.546257</td>\n",
       "      <td>0.249664</td>\n",
       "    </tr>\n",
       "    <tr>\n",
       "      <th>1</th>\n",
       "      <td>11</td>\n",
       "      <td>ndcg_cut_10</td>\n",
       "      <td>0.063621</td>\n",
       "      <td>0.168152</td>\n",
       "    </tr>\n",
       "    <tr>\n",
       "      <th>2</th>\n",
       "      <td>12</td>\n",
       "      <td>ndcg_cut_10</td>\n",
       "      <td>0.224663</td>\n",
       "      <td>0.000000</td>\n",
       "    </tr>\n",
       "    <tr>\n",
       "      <th>3</th>\n",
       "      <td>13</td>\n",
       "      <td>ndcg_cut_10</td>\n",
       "      <td>1.000000</td>\n",
       "      <td>1.000000</td>\n",
       "    </tr>\n",
       "    <tr>\n",
       "      <th>4</th>\n",
       "      <td>14</td>\n",
       "      <td>ndcg_cut_10</td>\n",
       "      <td>0.921602</td>\n",
       "      <td>0.142019</td>\n",
       "    </tr>\n",
       "    <tr>\n",
       "      <th>5</th>\n",
       "      <td>16</td>\n",
       "      <td>ndcg_cut_10</td>\n",
       "      <td>0.643404</td>\n",
       "      <td>0.188444</td>\n",
       "    </tr>\n",
       "    <tr>\n",
       "      <th>6</th>\n",
       "      <td>17</td>\n",
       "      <td>ndcg_cut_10</td>\n",
       "      <td>0.000000</td>\n",
       "      <td>0.000000</td>\n",
       "    </tr>\n",
       "    <tr>\n",
       "      <th>7</th>\n",
       "      <td>18</td>\n",
       "      <td>ndcg_cut_10</td>\n",
       "      <td>0.000000</td>\n",
       "      <td>0.000000</td>\n",
       "    </tr>\n",
       "    <tr>\n",
       "      <th>8</th>\n",
       "      <td>19</td>\n",
       "      <td>ndcg_cut_10</td>\n",
       "      <td>0.425208</td>\n",
       "      <td>0.288382</td>\n",
       "    </tr>\n",
       "    <tr>\n",
       "      <th>9</th>\n",
       "      <td>2</td>\n",
       "      <td>ndcg_cut_10</td>\n",
       "      <td>1.000000</td>\n",
       "      <td>1.000000</td>\n",
       "    </tr>\n",
       "  </tbody>\n",
       "</table>\n",
       "</div>"
      ],
      "text/plain": [
       "  qid      measure  value_bm25  value_querydoc\n",
       "0  10  ndcg_cut_10    0.546257        0.249664\n",
       "1  11  ndcg_cut_10    0.063621        0.168152\n",
       "2  12  ndcg_cut_10    0.224663        0.000000\n",
       "3  13  ndcg_cut_10    1.000000        1.000000\n",
       "4  14  ndcg_cut_10    0.921602        0.142019\n",
       "5  16  ndcg_cut_10    0.643404        0.188444\n",
       "6  17  ndcg_cut_10    0.000000        0.000000\n",
       "7  18  ndcg_cut_10    0.000000        0.000000\n",
       "8  19  ndcg_cut_10    0.425208        0.288382\n",
       "9   2  ndcg_cut_10    1.000000        1.000000"
      ]
     },
     "execution_count": 22,
     "metadata": {},
     "output_type": "execute_result"
    }
   ],
   "source": [
    "experiment_bm25 = experiment[experiment[\"name\"] == \"BM25\"]\\\n",
    "    .drop(columns=[\"name\"])\n",
    "experiment_query = experiment[experiment[\"name\"] == \"BM25 + query2doc\"]\\\n",
    "    .drop(columns=[\"name\"])\n",
    "\n",
    "\n",
    "experiment_paired = experiment_bm25.merge(\n",
    "    \n",
    "    experiment_query,\n",
    "   \n",
    "    on=[\"qid\", \"measure\"],\n",
    "    suffixes=(\"_bm25\", \"_querydoc\"),\n",
    ")\n",
    "experiment_paired.head(n=10)"
   ]
  },
  {
   "cell_type": "code",
   "execution_count": 25,
   "metadata": {},
   "outputs": [
    {
     "data": {
      "text/html": [
       "<div>\n",
       "<style scoped>\n",
       "    .dataframe tbody tr th:only-of-type {\n",
       "        vertical-align: middle;\n",
       "    }\n",
       "\n",
       "    .dataframe tbody tr th {\n",
       "        vertical-align: top;\n",
       "    }\n",
       "\n",
       "    .dataframe thead th {\n",
       "        text-align: right;\n",
       "    }\n",
       "</style>\n",
       "<table border=\"1\" class=\"dataframe\">\n",
       "  <thead>\n",
       "    <tr style=\"text-align: right;\">\n",
       "      <th></th>\n",
       "      <th>qid</th>\n",
       "      <th>measure</th>\n",
       "      <th>value_bm25</th>\n",
       "      <th>value_wordnet</th>\n",
       "    </tr>\n",
       "  </thead>\n",
       "  <tbody>\n",
       "    <tr>\n",
       "      <th>0</th>\n",
       "      <td>10</td>\n",
       "      <td>ndcg_cut_10</td>\n",
       "      <td>0.546257</td>\n",
       "      <td>0.546257</td>\n",
       "    </tr>\n",
       "    <tr>\n",
       "      <th>1</th>\n",
       "      <td>11</td>\n",
       "      <td>ndcg_cut_10</td>\n",
       "      <td>0.063621</td>\n",
       "      <td>0.063621</td>\n",
       "    </tr>\n",
       "    <tr>\n",
       "      <th>2</th>\n",
       "      <td>12</td>\n",
       "      <td>ndcg_cut_10</td>\n",
       "      <td>0.224663</td>\n",
       "      <td>0.224663</td>\n",
       "    </tr>\n",
       "    <tr>\n",
       "      <th>3</th>\n",
       "      <td>13</td>\n",
       "      <td>ndcg_cut_10</td>\n",
       "      <td>1.000000</td>\n",
       "      <td>1.000000</td>\n",
       "    </tr>\n",
       "    <tr>\n",
       "      <th>4</th>\n",
       "      <td>14</td>\n",
       "      <td>ndcg_cut_10</td>\n",
       "      <td>0.921602</td>\n",
       "      <td>0.921602</td>\n",
       "    </tr>\n",
       "    <tr>\n",
       "      <th>5</th>\n",
       "      <td>16</td>\n",
       "      <td>ndcg_cut_10</td>\n",
       "      <td>0.643404</td>\n",
       "      <td>0.643404</td>\n",
       "    </tr>\n",
       "    <tr>\n",
       "      <th>6</th>\n",
       "      <td>17</td>\n",
       "      <td>ndcg_cut_10</td>\n",
       "      <td>0.000000</td>\n",
       "      <td>0.000000</td>\n",
       "    </tr>\n",
       "    <tr>\n",
       "      <th>7</th>\n",
       "      <td>18</td>\n",
       "      <td>ndcg_cut_10</td>\n",
       "      <td>0.000000</td>\n",
       "      <td>0.000000</td>\n",
       "    </tr>\n",
       "    <tr>\n",
       "      <th>8</th>\n",
       "      <td>19</td>\n",
       "      <td>ndcg_cut_10</td>\n",
       "      <td>0.425208</td>\n",
       "      <td>0.425208</td>\n",
       "    </tr>\n",
       "    <tr>\n",
       "      <th>9</th>\n",
       "      <td>2</td>\n",
       "      <td>ndcg_cut_10</td>\n",
       "      <td>1.000000</td>\n",
       "      <td>1.000000</td>\n",
       "    </tr>\n",
       "  </tbody>\n",
       "</table>\n",
       "</div>"
      ],
      "text/plain": [
       "  qid      measure  value_bm25  value_wordnet\n",
       "0  10  ndcg_cut_10    0.546257       0.546257\n",
       "1  11  ndcg_cut_10    0.063621       0.063621\n",
       "2  12  ndcg_cut_10    0.224663       0.224663\n",
       "3  13  ndcg_cut_10    1.000000       1.000000\n",
       "4  14  ndcg_cut_10    0.921602       0.921602\n",
       "5  16  ndcg_cut_10    0.643404       0.643404\n",
       "6  17  ndcg_cut_10    0.000000       0.000000\n",
       "7  18  ndcg_cut_10    0.000000       0.000000\n",
       "8  19  ndcg_cut_10    0.425208       0.425208\n",
       "9   2  ndcg_cut_10    1.000000       1.000000"
      ]
     },
     "execution_count": 25,
     "metadata": {},
     "output_type": "execute_result"
    }
   ],
   "source": [
    "experiment_bm25 = experiment[experiment[\"name\"] == \"BM25\"]\\\n",
    "    .drop(columns=[\"name\"])\n",
    "\n",
    "experiment_wordnet = experiment[experiment[\"name\"] == \"Wordnet QueryExpansion\"]\\\n",
    "    .drop(columns=[\"name\"])\n",
    "\n",
    "experiment_paired = experiment_bm25.merge(\n",
    "    \n",
    "    experiment_wordnet,\n",
    "    on=[\"qid\", \"measure\"],\n",
    "    suffixes=(\"_bm25\",\"_wordnet\"),\n",
    ")\n",
    "experiment_paired.head(n=10)"
   ]
  },
  {
   "cell_type": "markdown",
   "metadata": {},
   "source": [
    "## Step 5: Conduct hypothesis tests\n",
    "\n",
    "On this _paired_ measurement data, we can now conduct _paired_ t-tests to test for statistical significance of given hypotheses.\n",
    "Remember that the choice of your test depends (amongst other factors) on how the hypothesis is formulated.\n",
    "\n",
    "Let us test some hypotheses to get a feeling of what this means:"
   ]
  },
  {
   "cell_type": "markdown",
   "metadata": {},
   "source": [
    "#### Hypothesis 2.1: Der Einsatz von der BO1 Query Expansion von PyTerrier zusätzlich zur BM25-Methode führt zu signifikant verbesserten NDCG@10-Werten im Vergleich zur BM25-Methode, da durch die Erweiterung der Suchanfragen zusätzliche relevante Dokumente identifiziert werden können.\n",
    "\n",
    "Significance test: one-sided paired t-test \\\n",
    "Significance level: $\\alpha = 0.05$ (or $p < 0.05$)"
   ]
  },
  {
   "cell_type": "code",
   "execution_count": 20,
   "metadata": {},
   "outputs": [
    {
     "data": {
      "text/plain": [
       "0.02266637729151283"
      ]
     },
     "execution_count": 20,
     "metadata": {},
     "output_type": "execute_result"
    }
   ],
   "source": [
    "from scipy.stats import ttest_rel\n",
    "\n",
    "ttest_rel(\n",
    "    experiment_paired[\"value_bo1\"],\n",
    "    experiment_paired[\"value_bm25\"],\n",
    "    alternative='two-sided',\n",
    ").pvalue"
   ]
  },
  {
   "cell_type": "markdown",
   "metadata": {},
   "source": [
    "Because this is lower than our significance level. This suggests there is a statistically significant difference."
   ]
  },
  {
   "cell_type": "code",
   "execution_count": 21,
   "metadata": {},
   "outputs": [
    {
     "data": {
      "text/plain": [
       "0.9886668113542436"
      ]
     },
     "execution_count": 21,
     "metadata": {},
     "output_type": "execute_result"
    }
   ],
   "source": [
    "from scipy.stats import ttest_rel\n",
    "\n",
    "ttest_rel(\n",
    "    experiment_paired[\"value_bo1\"],\n",
    "    experiment_paired[\"value_bm25\"],\n",
    "    alternative='greater',\n",
    ").pvalue"
   ]
  },
  {
   "cell_type": "markdown",
   "metadata": {},
   "source": [
    "This time, the probability p of the null hypothesis is higher than our significance level alpha.\n",
    "So we cannot reject the null hypothesis and fail to confirm hypothesis 1."
   ]
  },
  {
   "cell_type": "markdown",
   "metadata": {},
   "source": [
    "#### Hypothesis 2.2: Der Einsatz unserer eigenen Query Expansion Methode, basierend auf LLMs, zusätzlich zur BM25-Methode führt zu signifikant verbesserten NDCG@10-Werten im Vergleich zur BM25-Methode, da durch die Erweiterung der Suchanfragen zusätzliche relevante Dokumente identifiziert werden können.\n",
    "\n",
    "Significance test: one-sided paired t-test \\\n",
    "Significance level: $\\alpha = 0.05$ (or $p < 0.05$)"
   ]
  },
  {
   "cell_type": "code",
   "execution_count": 23,
   "metadata": {},
   "outputs": [
    {
     "data": {
      "text/plain": [
       "2.335319848825698e-05"
      ]
     },
     "execution_count": 23,
     "metadata": {},
     "output_type": "execute_result"
    }
   ],
   "source": [
    "from scipy.stats import ttest_rel\n",
    "\n",
    "ttest_rel(\n",
    "    experiment_paired[\"value_querydoc\"],\n",
    "    experiment_paired[\"value_bm25\"],\n",
    "    alternative='two-sided',\n",
    ").pvalue"
   ]
  },
  {
   "cell_type": "code",
   "execution_count": 24,
   "metadata": {},
   "outputs": [
    {
     "data": {
      "text/plain": [
       "0.9999883234007559"
      ]
     },
     "execution_count": 24,
     "metadata": {},
     "output_type": "execute_result"
    }
   ],
   "source": [
    "from scipy.stats import ttest_rel\n",
    "\n",
    "ttest_rel(\n",
    "    experiment_paired[\"value_querydoc\"],\n",
    "    experiment_paired[\"value_bm25\"],\n",
    "    alternative='greater',\n",
    ").pvalue"
   ]
  },
  {
   "cell_type": "markdown",
   "metadata": {},
   "source": [
    "#### Hypothesis 2.3: Der Einsatz unserer eigenen Query Expansion Methode, basierend auf der lexikalischen Datenbank Wordnet, zusätzlich zur BM25-Methode führt zu signifikant verbesserten NDCG@10-Werten im Vergleich zur BM25-Methode, da durch die Erweiterung der Suchanfragen zusätzliche relevante Dokumente identifiziert werden können.\n",
    "\n",
    "Significance test: one-sided paired t-test \\\n",
    "Significance level: $\\alpha = 0.05$ (or $p < 0.05$)"
   ]
  },
  {
   "cell_type": "code",
   "execution_count": 26,
   "metadata": {},
   "outputs": [
    {
     "data": {
      "text/plain": [
       "0.32265765224996135"
      ]
     },
     "execution_count": 26,
     "metadata": {},
     "output_type": "execute_result"
    }
   ],
   "source": [
    "from scipy.stats import ttest_rel\n",
    "\n",
    "ttest_rel(\n",
    "    experiment_paired[\"value_wordnet\"],\n",
    "    experiment_paired[\"value_bm25\"],\n",
    "    alternative='two-sided',\n",
    ").pvalue"
   ]
  },
  {
   "cell_type": "code",
   "execution_count": 27,
   "metadata": {},
   "outputs": [
    {
     "data": {
      "text/plain": [
       "0.8386711738750193"
      ]
     },
     "execution_count": 27,
     "metadata": {},
     "output_type": "execute_result"
    }
   ],
   "source": [
    "from scipy.stats import ttest_rel\n",
    "\n",
    "ttest_rel(\n",
    "    experiment_paired[\"value_wordnet\"],\n",
    "    experiment_paired[\"value_bm25\"],\n",
    "    alternative='greater',\n",
    ").pvalue"
   ]
  }
 ],
 "metadata": {
  "kernelspec": {
   "display_name": "Python 3",
   "language": "python",
   "name": "python3"
  },
  "language_info": {
   "codemirror_mode": {
    "name": "ipython",
    "version": 3
   },
   "file_extension": ".py",
   "mimetype": "text/x-python",
   "name": "python",
   "nbconvert_exporter": "python",
   "pygments_lexer": "ipython3",
   "version": "3.12.1"
  }
 },
 "nbformat": 4,
 "nbformat_minor": 2
}

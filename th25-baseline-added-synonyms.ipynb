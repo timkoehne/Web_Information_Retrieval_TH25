{
 "cells": [
  {
   "cell_type": "markdown",
   "metadata": {},
   "source": [
    "# Information Retrieval Lab WiSe 2024/2025: Baseline Retrieval System\n",
    "\n",
    "This Jupyter notebook serves as a baseline retrieval system that you can improve upon.\n",
    "We use subsets of the MS MARCO datasets to retrieve passages of web documents.\n",
    "We will show you how to create a software submission to TIRA from this notebook.\n",
    "\n",
    "An overview of all corpora that we use in the current course is available at [https://tira.io/datasets?query=ir-lab-wise-2024](https://tira.io/datasets?query=ir-lab-wise-2024). The dataset IDs for loading the datasets are:\n",
    "\n",
    "- `ir-lab-wise-2024/subsampled-ms-marco-deep-learning-20241201-training`: A subsample of the TREC 2019/2020 Deep Learning tracks on the MS MARCO v1 passage dataset. Use this dataset to tune your system(s).\n",
    "- `ir-lab-wise-2024/subsampled-ms-marco-rag-20241202-training` (_work in progress_): A subsample of the TREC 2024 Retrieval-Augmented Generation track on the MS MARCO v2.1 passage dataset. Use this dataset to tune your system(s).\n",
    "- `ir-lab-wise-2024/ms-marco-rag-20241203-test` (work in progress): The test corpus that we have created together in the course, based on the MS MARCO v2.1 passage dataset. We will use this dataset as the test dataset, i.e., evaluation scores become available only after the submission deadline."
   ]
  },
  {
   "cell_type": "markdown",
   "metadata": {},
   "source": [
    "### Step 1: Import libraries\n",
    "\n",
    "We will use [tira](https://tira.io/), an information retrieval shared task platform, and [ir_dataset](https://ir-datasets.com/) for loading the datasets. Subsequently, we will build a retrieval system with [PyTerrier](https://github.com/terrier-org/pyterrier), an open-source search engine framework."
   ]
  },
  {
   "cell_type": "markdown",
   "metadata": {},
   "source": [
    "First, we need to install the required libraries."
   ]
  },
  {
   "cell_type": "code",
   "execution_count": null,
   "metadata": {},
   "outputs": [],
   "source": [
    "!pip3 install \"tira>=0.0.139\" ir-datasets \"python-terrier==0.10.0\""
   ]
  },
  {
   "cell_type": "markdown",
   "metadata": {},
   "source": [
    "Create an API client to interact with the TIRA platform (e.g., to load datasets and submit runs)."
   ]
  },
  {
   "cell_type": "code",
   "execution_count": null,
   "metadata": {},
   "outputs": [],
   "source": [
    "from tira.third_party_integrations import ensure_pyterrier_is_loaded\n",
    "from tira.rest_api_client import Client\n",
    "\n",
    "ensure_pyterrier_is_loaded()\n",
    "tira = Client()"
   ]
  },
  {
   "cell_type": "markdown",
   "metadata": {},
   "source": [
    "### Step 2: Load the dataset\n",
    "\n",
    "We load the dataset by its ir_datasets ID (as listed in the Readme). Just be sure to add the `irds:` prefix before the dataset ID to tell PyTerrier to load the data from ir_datasets."
   ]
  },
  {
   "cell_type": "code",
   "execution_count": 3,
   "metadata": {},
   "outputs": [],
   "source": [
    "import pyterrier as pt\n",
    "\n",
    "pt_dataset = pt.get_dataset('irds:ir-lab-wise-2024/subsampled-ms-marco-deep-learning-20241201-training')"
   ]
  },
  {
   "cell_type": "markdown",
   "metadata": {},
   "source": [
    "### Step 3: Build an index\n",
    "\n",
    "We will then create an index from the documents in the dataset we just loaded."
   ]
  },
  {
   "cell_type": "code",
   "execution_count": null,
   "metadata": {},
   "outputs": [],
   "source": [
    "import os\n",
    "\n",
    "indexer = pt.IterDictIndexer(\n",
    "    index_path=os.getcwd() + os.sep + \"index\",\n",
    "    meta={'docno': 50, 'text': 4096},\n",
    "    # If an index already exists there, then overwrite it.\n",
    "    overwrite=True,\n",
    ")\n",
    "\n",
    "index = indexer.index(pt_dataset.get_corpus_iter())"
   ]
  },
  {
   "cell_type": "markdown",
   "metadata": {},
   "source": [
    "### Step 4: Define the retrieval pipeline\n",
    "\n",
    "We will define a simple retrieval pipeline using just BM25 as a baseline. For details, refer to the PyTerrier [documentation](https://pyterrier.readthedocs.io) or [tutorial](https://github.com/terrier-org/ecir2021tutorial)."
   ]
  },
  {
   "cell_type": "code",
   "execution_count": 5,
   "metadata": {},
   "outputs": [],
   "source": [
    "bm25 = pt.BatchRetrieve(index, wmodel=\"BM25\")"
   ]
  },
  {
   "cell_type": "markdown",
   "metadata": {},
   "source": [
    "# Create verachell Synonyms Dict\n",
    "Based on Synonym Data from https://github.com/verachell/English-word-lists-synonyms-antonyms"
   ]
  },
  {
   "cell_type": "code",
   "execution_count": null,
   "metadata": {},
   "outputs": [],
   "source": [
    "synonyms_dict_verachell = {}\n",
    "with open(\"synonym files/syn-ant.csv\", \"r\") as file:\n",
    "    for line in file.readlines():\n",
    "        values = line.split(\",\")\n",
    "        word = values[0]\n",
    "        synonyms = values[1].split(\"#\")\n",
    "        if synonyms[-1] == \"\":\n",
    "            synonyms = synonyms[:-1]\n",
    "        synonyms_dict_verachell[word] = synonyms\n",
    "print(synonyms_dict_verachell)"
   ]
  },
  {
   "cell_type": "code",
   "execution_count": 7,
   "metadata": {},
   "outputs": [],
   "source": [
    "def addVerachellSynonyms(q):\n",
    "    query = q[\"query\"].split(\" \")\n",
    "    \n",
    "    new_query = [word for word in query]\n",
    "    for word in query:\n",
    "        if word in synonyms_dict_verachell:\n",
    "            new_query += synonyms_dict_verachell[word]\n",
    "    return \" \".join(new_query)\n",
    "\n",
    "verachell_querys = pt.apply.query(addVerachellSynonyms)\n",
    "verachell_pipeline = verachell_querys >> bm25"
   ]
  },
  {
   "cell_type": "code",
   "execution_count": null,
   "metadata": {},
   "outputs": [],
   "source": [
    "verachell_querys.transform(pt_dataset.get_topics('text')[:10])"
   ]
  },
  {
   "cell_type": "markdown",
   "metadata": {},
   "source": [
    "# Create zaibacu Synonyms Dict\n",
    "Based on Synonym Data from https://github.com/zaibacu/thesaurus"
   ]
  },
  {
   "cell_type": "code",
   "execution_count": 9,
   "metadata": {},
   "outputs": [],
   "source": [
    "import json\n",
    "\n",
    "synonyms_dict_zaibacu = {}\n",
    "with open(\"synonym files/en_thesaurus.jsonl\", \"r\") as file:\n",
    "    for line in file.readlines():\n",
    "        entry = json.loads(line)\n",
    "        if len(entry[\"synonyms\"]) > 0:\n",
    "            synonyms = []\n",
    "            for synonym in entry[\"synonyms\"]:\n",
    "                if \"'\" in synonym:\n",
    "                    synonym = synonym.replace(\"'s\", \"\")\n",
    "                    synonym = synonym.replace(\"'\", \"\")\n",
    "                \n",
    "                synonyms.append(synonym)\n",
    "                \n",
    "            synonyms_dict_zaibacu[entry[\"word\"]] = synonyms"
   ]
  },
  {
   "cell_type": "code",
   "execution_count": 10,
   "metadata": {},
   "outputs": [],
   "source": [
    "def addZaibacuSynonyms(q):\n",
    "    query = q[\"query\"].split(\" \")\n",
    "    \n",
    "    new_query = [word for word in query]\n",
    "    for word in query:\n",
    "        if word in synonyms_dict_zaibacu:\n",
    "            new_query += synonyms_dict_zaibacu[word]\n",
    "    return \" \".join(new_query)\n",
    "\n",
    "zaibacu_querys = pt.apply.query(addZaibacuSynonyms)\n",
    "zaibacu_pipeline = zaibacu_querys >> bm25"
   ]
  },
  {
   "cell_type": "code",
   "execution_count": null,
   "metadata": {},
   "outputs": [],
   "source": [
    "zaibacu_querys.transform(pt_dataset.get_topics('text')[:10])"
   ]
  },
  {
   "cell_type": "markdown",
   "metadata": {},
   "source": [
    "# Create zaibacu Synonyms Dicts - Only nouns / adjectives / verbs\n",
    "Based on Synonym Data from https://github.com/zaibacu/thesaurus"
   ]
  },
  {
   "cell_type": "code",
   "execution_count": 12,
   "metadata": {},
   "outputs": [],
   "source": [
    "import json\n",
    "\n",
    "synonyms_dicts_zaibacu = {}\n",
    "with open(\"synonym files/en_thesaurus.jsonl\", \"r\") as file:\n",
    "    for line in file.readlines():\n",
    "        entry = json.loads(line)\n",
    "        \n",
    "        if entry[\"pos\"] not in synonyms_dicts_zaibacu:\n",
    "            synonyms_dicts_zaibacu[entry[\"pos\"]] = {}\n",
    "            \n",
    "        pos_dict = synonyms_dicts_zaibacu[entry[\"pos\"]]\n",
    "        if len(entry[\"synonyms\"]) > 0:\n",
    "            synonyms = []\n",
    "            for synonym in entry[\"synonyms\"]:\n",
    "                if \"'\" in synonym:\n",
    "                    synonym = synonym.replace(\"'s\", \"\")\n",
    "                    synonym = synonym.replace(\"'\", \"\")\n",
    "                \n",
    "                synonyms.append(synonym)\n",
    "                \n",
    "            pos_dict[entry[\"word\"]] = synonyms"
   ]
  },
  {
   "cell_type": "code",
   "execution_count": 13,
   "metadata": {},
   "outputs": [],
   "source": [
    "def addZaibacuSynonymsNouns(q):\n",
    "    query = q[\"query\"].split(\" \")\n",
    "    new_query = [word for word in query]\n",
    "    for word in query:\n",
    "        if word in synonyms_dicts_zaibacu[\"noun\"]:\n",
    "            new_query += synonyms_dicts_zaibacu[\"noun\"][word]\n",
    "    return \" \".join(new_query)\n",
    "\n",
    "def addZaibacuSynonymsAdjectives(q):\n",
    "    query = q[\"query\"].split(\" \")\n",
    "    new_query = [word for word in query]\n",
    "    for word in query:\n",
    "        if word in synonyms_dicts_zaibacu[\"adj\"]:\n",
    "            new_query += synonyms_dicts_zaibacu[\"adj\"][word]\n",
    "    return \" \".join(new_query)\n",
    "\n",
    "def addZaibacuSynonymsVerbs(q):\n",
    "    query = q[\"query\"].split(\" \")\n",
    "    new_query = [word for word in query]\n",
    "    for word in query:\n",
    "        if word in synonyms_dicts_zaibacu[\"verb\"]:\n",
    "            new_query += synonyms_dicts_zaibacu[\"verb\"][word]\n",
    "    return \" \".join(new_query)\n",
    "\n",
    "zaibacu_querys_noun = pt.apply.query(addZaibacuSynonymsNouns)\n",
    "zaibacu_pipeline_noun = zaibacu_querys_noun >> bm25\n",
    "\n",
    "zaibacu_querys_adjvective = pt.apply.query(addZaibacuSynonymsAdjectives)\n",
    "zaibacu_pipeline_adjvective = zaibacu_querys_adjvective >> bm25\n",
    "\n",
    "zaibacu_querys_verb = pt.apply.query(addZaibacuSynonymsVerbs)\n",
    "zaibacu_pipeline_verb = zaibacu_querys_verb >> bm25"
   ]
  },
  {
   "cell_type": "code",
   "execution_count": null,
   "metadata": {},
   "outputs": [],
   "source": [
    "zaibacu_querys_noun.transform(pt_dataset.get_topics('text')[:10])"
   ]
  },
  {
   "cell_type": "markdown",
   "metadata": {},
   "source": [
    "### Step 5: Evaluate your run"
   ]
  },
  {
   "cell_type": "code",
   "execution_count": 18,
   "metadata": {},
   "outputs": [
    {
     "name": "stderr",
     "output_type": "stream",
     "text": [
      "pt.Experiment: 100%|██████████| 6/6 [00:48<00:00,  8.11s/system]\n"
     ]
    },
    {
     "data": {
      "text/html": [
       "<div>\n",
       "<style scoped>\n",
       "    .dataframe tbody tr th:only-of-type {\n",
       "        vertical-align: middle;\n",
       "    }\n",
       "\n",
       "    .dataframe tbody tr th {\n",
       "        vertical-align: top;\n",
       "    }\n",
       "\n",
       "    .dataframe thead th {\n",
       "        text-align: right;\n",
       "    }\n",
       "</style>\n",
       "<table border=\"1\" class=\"dataframe\">\n",
       "  <thead>\n",
       "    <tr style=\"text-align: right;\">\n",
       "      <th></th>\n",
       "      <th>name</th>\n",
       "      <th>map</th>\n",
       "      <th>recip_rank</th>\n",
       "      <th>ndcg_cut_10</th>\n",
       "      <th>P_1</th>\n",
       "      <th>P_5</th>\n",
       "      <th>P_10</th>\n",
       "    </tr>\n",
       "  </thead>\n",
       "  <tbody>\n",
       "    <tr>\n",
       "      <th>0</th>\n",
       "      <td>BM25</td>\n",
       "      <td>0.412718</td>\n",
       "      <td>0.786653</td>\n",
       "      <td>0.489469</td>\n",
       "      <td>0.701031</td>\n",
       "      <td>0.622680</td>\n",
       "      <td>0.574227</td>\n",
       "    </tr>\n",
       "    <tr>\n",
       "      <th>1</th>\n",
       "      <td>BM25 + verachell synonyms</td>\n",
       "      <td>0.275158</td>\n",
       "      <td>0.518404</td>\n",
       "      <td>0.304276</td>\n",
       "      <td>0.381443</td>\n",
       "      <td>0.395876</td>\n",
       "      <td>0.371134</td>\n",
       "    </tr>\n",
       "    <tr>\n",
       "      <th>2</th>\n",
       "      <td>BM25 + zaibacu synonyms</td>\n",
       "      <td>0.363560</td>\n",
       "      <td>0.689224</td>\n",
       "      <td>0.421570</td>\n",
       "      <td>0.587629</td>\n",
       "      <td>0.523711</td>\n",
       "      <td>0.508247</td>\n",
       "    </tr>\n",
       "    <tr>\n",
       "      <th>3</th>\n",
       "      <td>BM25 + zaibacu synonyms only nouns</td>\n",
       "      <td>0.365621</td>\n",
       "      <td>0.711690</td>\n",
       "      <td>0.427496</td>\n",
       "      <td>0.608247</td>\n",
       "      <td>0.546392</td>\n",
       "      <td>0.511340</td>\n",
       "    </tr>\n",
       "    <tr>\n",
       "      <th>4</th>\n",
       "      <td>BM25 + zaibacu synonyms only adjectives</td>\n",
       "      <td>0.406223</td>\n",
       "      <td>0.754702</td>\n",
       "      <td>0.470799</td>\n",
       "      <td>0.659794</td>\n",
       "      <td>0.606186</td>\n",
       "      <td>0.559794</td>\n",
       "    </tr>\n",
       "    <tr>\n",
       "      <th>5</th>\n",
       "      <td>BM25 + zaibacu synonyms only verbs</td>\n",
       "      <td>0.395550</td>\n",
       "      <td>0.766893</td>\n",
       "      <td>0.474376</td>\n",
       "      <td>0.680412</td>\n",
       "      <td>0.589691</td>\n",
       "      <td>0.555670</td>\n",
       "    </tr>\n",
       "  </tbody>\n",
       "</table>\n",
       "</div>"
      ],
      "text/plain": [
       "                                      name       map  recip_rank  ndcg_cut_10  \\\n",
       "0                                     BM25  0.412718    0.786653     0.489469   \n",
       "1                BM25 + verachell synonyms  0.275158    0.518404     0.304276   \n",
       "2                  BM25 + zaibacu synonyms  0.363560    0.689224     0.421570   \n",
       "3       BM25 + zaibacu synonyms only nouns  0.365621    0.711690     0.427496   \n",
       "4  BM25 + zaibacu synonyms only adjectives  0.406223    0.754702     0.470799   \n",
       "5       BM25 + zaibacu synonyms only verbs  0.395550    0.766893     0.474376   \n",
       "\n",
       "        P_1       P_5      P_10  \n",
       "0  0.701031  0.622680  0.574227  \n",
       "1  0.381443  0.395876  0.371134  \n",
       "2  0.587629  0.523711  0.508247  \n",
       "3  0.608247  0.546392  0.511340  \n",
       "4  0.659794  0.606186  0.559794  \n",
       "5  0.680412  0.589691  0.555670  "
      ]
     },
     "execution_count": 18,
     "metadata": {},
     "output_type": "execute_result"
    }
   ],
   "source": [
    "experiments = [bm25, \n",
    "               verachell_pipeline, \n",
    "               zaibacu_pipeline, \n",
    "               zaibacu_pipeline_noun, \n",
    "               zaibacu_pipeline_adjvective, \n",
    "               zaibacu_pipeline_verb\n",
    "               ]\n",
    "experiments_names = [\"BM25\",\n",
    "                     \"BM25 + verachell synonyms\",\n",
    "                     \"BM25 + zaibacu synonyms\",\n",
    "                     \"BM25 + zaibacu synonyms only nouns\",\n",
    "                     \"BM25 + zaibacu synonyms only adjectives\",\n",
    "                     \"BM25 + zaibacu synonyms only verbs\"\n",
    "                     ]\n",
    "\n",
    "pt.Experiment(experiments,\n",
    "    pt_dataset.get_topics('text'),\n",
    "    pt_dataset.get_qrels(),\n",
    "    eval_metrics = [\"map\", \"recip_rank\", \"ndcg_cut_10\", \"P_1\", \"P_5\", \"P_10\"],\n",
    "    names = experiments_names,\n",
    "    verbose=True\n",
    ")"
   ]
  }
 ],
 "metadata": {
  "kernelspec": {
   "display_name": "Python 3",
   "language": "python",
   "name": "python3"
  },
  "language_info": {
   "codemirror_mode": {
    "name": "ipython",
    "version": 3
   },
   "file_extension": ".py",
   "mimetype": "text/x-python",
   "name": "python",
   "nbconvert_exporter": "python",
   "pygments_lexer": "ipython3",
   "version": "3.12.1"
  }
 },
 "nbformat": 4,
 "nbformat_minor": 2
}

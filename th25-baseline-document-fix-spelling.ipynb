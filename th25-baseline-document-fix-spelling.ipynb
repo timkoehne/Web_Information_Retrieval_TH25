{
 "cells": [
  {
   "cell_type": "code",
   "execution_count": 1,
   "metadata": {},
   "outputs": [
    {
     "name": "stdout",
     "output_type": "stream",
     "text": [
      "Requirement already satisfied: tira>=0.0.139 in c:\\users\\timko\\anaconda3\\envs\\wir\\lib\\site-packages (0.0.139)\n",
      "Requirement already satisfied: ir-datasets in c:\\users\\timko\\anaconda3\\envs\\wir\\lib\\site-packages (0.5.9)\n",
      "Requirement already satisfied: python-terrier==0.10.0 in c:\\users\\timko\\anaconda3\\envs\\wir\\lib\\site-packages (0.10.0)\n",
      "Requirement already satisfied: numpy in c:\\users\\timko\\anaconda3\\envs\\wir\\lib\\site-packages (from python-terrier==0.10.0) (1.26.4)\n",
      "Requirement already satisfied: pandas in c:\\users\\timko\\anaconda3\\envs\\wir\\lib\\site-packages (from python-terrier==0.10.0) (2.2.3)\n",
      "Requirement already satisfied: wget in c:\\users\\timko\\anaconda3\\envs\\wir\\lib\\site-packages (from python-terrier==0.10.0) (3.2)\n",
      "Requirement already satisfied: tqdm in c:\\users\\timko\\anaconda3\\envs\\wir\\lib\\site-packages (from python-terrier==0.10.0) (4.67.1)\n",
      "Requirement already satisfied: pyjnius>=1.4.2 in c:\\users\\timko\\anaconda3\\envs\\wir\\lib\\site-packages (from python-terrier==0.10.0) (1.6.1)\n",
      "Requirement already satisfied: matchpy in c:\\users\\timko\\anaconda3\\envs\\wir\\lib\\site-packages (from python-terrier==0.10.0) (0.5.5)\n",
      "Requirement already satisfied: scikit-learn in c:\\users\\timko\\anaconda3\\envs\\wir\\lib\\site-packages (from python-terrier==0.10.0) (1.5.2)\n",
      "Requirement already satisfied: deprecated in c:\\users\\timko\\anaconda3\\envs\\wir\\lib\\site-packages (from python-terrier==0.10.0) (1.2.15)\n",
      "Requirement already satisfied: chest in c:\\users\\timko\\anaconda3\\envs\\wir\\lib\\site-packages (from python-terrier==0.10.0) (0.2.3)\n",
      "Requirement already satisfied: scipy in c:\\users\\timko\\anaconda3\\envs\\wir\\lib\\site-packages (from python-terrier==0.10.0) (1.14.1)\n",
      "Requirement already satisfied: requests in c:\\users\\timko\\anaconda3\\envs\\wir\\lib\\site-packages (from python-terrier==0.10.0) (2.32.3)\n",
      "Requirement already satisfied: joblib in c:\\users\\timko\\anaconda3\\envs\\wir\\lib\\site-packages (from python-terrier==0.10.0) (1.4.2)\n",
      "Requirement already satisfied: nptyping==1.4.4 in c:\\users\\timko\\anaconda3\\envs\\wir\\lib\\site-packages (from python-terrier==0.10.0) (1.4.4)\n",
      "Requirement already satisfied: more-itertools in c:\\users\\timko\\anaconda3\\envs\\wir\\lib\\site-packages (from python-terrier==0.10.0) (10.5.0)\n",
      "Requirement already satisfied: jinja2 in c:\\users\\timko\\anaconda3\\envs\\wir\\lib\\site-packages (from python-terrier==0.10.0) (3.1.4)\n",
      "Requirement already satisfied: statsmodels in c:\\users\\timko\\anaconda3\\envs\\wir\\lib\\site-packages (from python-terrier==0.10.0) (0.14.4)\n",
      "Requirement already satisfied: ir-measures>=0.3.1 in c:\\users\\timko\\anaconda3\\envs\\wir\\lib\\site-packages (from python-terrier==0.10.0) (0.3.6)\n",
      "Requirement already satisfied: dill in c:\\users\\timko\\anaconda3\\envs\\wir\\lib\\site-packages (from python-terrier==0.10.0) (0.3.9)\n",
      "Requirement already satisfied: pytrec-eval-terrier>=0.5.3 in c:\\users\\timko\\anaconda3\\envs\\wir\\lib\\site-packages (from python-terrier==0.10.0) (0.5.6)\n",
      "Requirement already satisfied: typish>=1.7.0 in c:\\users\\timko\\anaconda3\\envs\\wir\\lib\\site-packages (from nptyping==1.4.4->python-terrier==0.10.0) (1.9.3)\n",
      "Requirement already satisfied: docker==7.*,>=7.1.0 in c:\\users\\timko\\anaconda3\\envs\\wir\\lib\\site-packages (from tira>=0.0.139) (7.1.0)\n",
      "Requirement already satisfied: packaging in c:\\users\\timko\\anaconda3\\envs\\wir\\lib\\site-packages (from tira>=0.0.139) (24.2)\n",
      "Requirement already satisfied: pywin32>=304 in c:\\users\\timko\\anaconda3\\envs\\wir\\lib\\site-packages (from docker==7.*,>=7.1.0->tira>=0.0.139) (307)\n",
      "Requirement already satisfied: urllib3>=1.26.0 in c:\\users\\timko\\anaconda3\\envs\\wir\\lib\\site-packages (from docker==7.*,>=7.1.0->tira>=0.0.139) (2.2.3)\n",
      "Requirement already satisfied: charset-normalizer<4,>=2 in c:\\users\\timko\\anaconda3\\envs\\wir\\lib\\site-packages (from requests->python-terrier==0.10.0) (3.4.0)\n",
      "Requirement already satisfied: idna<4,>=2.5 in c:\\users\\timko\\anaconda3\\envs\\wir\\lib\\site-packages (from requests->python-terrier==0.10.0) (3.10)\n",
      "Requirement already satisfied: certifi>=2017.4.17 in c:\\users\\timko\\anaconda3\\envs\\wir\\lib\\site-packages (from requests->python-terrier==0.10.0) (2024.8.30)\n",
      "Requirement already satisfied: beautifulsoup4>=4.4.1 in c:\\users\\timko\\anaconda3\\envs\\wir\\lib\\site-packages (from ir-datasets) (4.12.3)\n",
      "Requirement already satisfied: inscriptis>=2.2.0 in c:\\users\\timko\\anaconda3\\envs\\wir\\lib\\site-packages (from ir-datasets) (2.5.0)\n",
      "Requirement already satisfied: lxml>=4.5.2 in c:\\users\\timko\\anaconda3\\envs\\wir\\lib\\site-packages (from ir-datasets) (5.3.0)\n",
      "Requirement already satisfied: pyyaml>=5.3.1 in c:\\users\\timko\\anaconda3\\envs\\wir\\lib\\site-packages (from ir-datasets) (6.0.2)\n",
      "Requirement already satisfied: trec-car-tools>=2.5.4 in c:\\users\\timko\\anaconda3\\envs\\wir\\lib\\site-packages (from ir-datasets) (2.6)\n",
      "Requirement already satisfied: lz4>=3.1.10 in c:\\users\\timko\\anaconda3\\envs\\wir\\lib\\site-packages (from ir-datasets) (4.3.3)\n",
      "Requirement already satisfied: warc3-wet>=0.2.3 in c:\\users\\timko\\anaconda3\\envs\\wir\\lib\\site-packages (from ir-datasets) (0.2.5)\n",
      "Requirement already satisfied: warc3-wet-clueweb09>=0.2.5 in c:\\users\\timko\\anaconda3\\envs\\wir\\lib\\site-packages (from ir-datasets) (0.2.5)\n",
      "Requirement already satisfied: zlib-state>=0.1.3 in c:\\users\\timko\\anaconda3\\envs\\wir\\lib\\site-packages (from ir-datasets) (0.1.9)\n",
      "Requirement already satisfied: ijson>=3.1.3 in c:\\users\\timko\\anaconda3\\envs\\wir\\lib\\site-packages (from ir-datasets) (3.3.0)\n",
      "Requirement already satisfied: unlzw3>=0.2.1 in c:\\users\\timko\\anaconda3\\envs\\wir\\lib\\site-packages (from ir-datasets) (0.2.2)\n",
      "Requirement already satisfied: soupsieve>1.2 in c:\\users\\timko\\anaconda3\\envs\\wir\\lib\\site-packages (from beautifulsoup4>=4.4.1->ir-datasets) (2.6)\n",
      "Requirement already satisfied: colorama in c:\\users\\timko\\anaconda3\\envs\\wir\\lib\\site-packages (from tqdm->python-terrier==0.10.0) (0.4.6)\n",
      "Requirement already satisfied: cbor>=1.0.0 in c:\\users\\timko\\anaconda3\\envs\\wir\\lib\\site-packages (from trec-car-tools>=2.5.4->ir-datasets) (1.0.0)\n",
      "Requirement already satisfied: heapdict in c:\\users\\timko\\anaconda3\\envs\\wir\\lib\\site-packages (from chest->python-terrier==0.10.0) (1.0.1)\n",
      "Requirement already satisfied: wrapt<2,>=1.10 in c:\\users\\timko\\anaconda3\\envs\\wir\\lib\\site-packages (from deprecated->python-terrier==0.10.0) (1.17.0)\n",
      "Requirement already satisfied: MarkupSafe>=2.0 in c:\\users\\timko\\anaconda3\\envs\\wir\\lib\\site-packages (from jinja2->python-terrier==0.10.0) (3.0.2)\n",
      "Requirement already satisfied: multiset<3.0,>=2.0 in c:\\users\\timko\\anaconda3\\envs\\wir\\lib\\site-packages (from matchpy->python-terrier==0.10.0) (2.1.1)\n",
      "Requirement already satisfied: python-dateutil>=2.8.2 in c:\\users\\timko\\anaconda3\\envs\\wir\\lib\\site-packages (from pandas->python-terrier==0.10.0) (2.9.0.post0)\n",
      "Requirement already satisfied: pytz>=2020.1 in c:\\users\\timko\\anaconda3\\envs\\wir\\lib\\site-packages (from pandas->python-terrier==0.10.0) (2024.2)\n",
      "Requirement already satisfied: tzdata>=2022.7 in c:\\users\\timko\\anaconda3\\envs\\wir\\lib\\site-packages (from pandas->python-terrier==0.10.0) (2024.2)\n",
      "Requirement already satisfied: threadpoolctl>=3.1.0 in c:\\users\\timko\\anaconda3\\envs\\wir\\lib\\site-packages (from scikit-learn->python-terrier==0.10.0) (3.5.0)\n",
      "Requirement already satisfied: patsy>=0.5.6 in c:\\users\\timko\\anaconda3\\envs\\wir\\lib\\site-packages (from statsmodels->python-terrier==0.10.0) (1.0.1)\n",
      "Requirement already satisfied: six>=1.5 in c:\\users\\timko\\anaconda3\\envs\\wir\\lib\\site-packages (from python-dateutil>=2.8.2->pandas->python-terrier==0.10.0) (1.17.0)\n"
     ]
    }
   ],
   "source": [
    "!pip3 install \"tira>=0.0.139\" ir-datasets \"python-terrier==0.10.0\""
   ]
  },
  {
   "cell_type": "code",
   "execution_count": 2,
   "metadata": {},
   "outputs": [
    {
     "name": "stdout",
     "output_type": "stream",
     "text": [
      "Requirement already satisfied: unidecode in c:\\users\\timko\\anaconda3\\envs\\wir\\lib\\site-packages (1.3.8)\n",
      "Requirement already satisfied: symspellpy in c:\\users\\timko\\anaconda3\\envs\\wir\\lib\\site-packages (6.7.8)\n",
      "Requirement already satisfied: editdistpy>=0.1.3 in c:\\users\\timko\\anaconda3\\envs\\wir\\lib\\site-packages (from symspellpy) (0.1.5)\n"
     ]
    }
   ],
   "source": [
    "!pip3 install unidecode\n",
    "!pip3 install symspellpy"
   ]
  },
  {
   "cell_type": "code",
   "execution_count": 3,
   "metadata": {},
   "outputs": [
    {
     "name": "stderr",
     "output_type": "stream",
     "text": [
      "c:\\Users\\timko\\anaconda3\\envs\\wir\\lib\\site-packages\\tqdm\\auto.py:21: TqdmWarning: IProgress not found. Please update jupyter and ipywidgets. See https://ipywidgets.readthedocs.io/en/stable/user_install.html\n",
      "  from .autonotebook import tqdm as notebook_tqdm\n",
      "PyTerrier 0.10.0 has loaded Terrier 5.7 (built by craigm on 2022-11-10 18:30) and terrier-helper 0.0.7\n",
      "\n"
     ]
    }
   ],
   "source": [
    "from tira.third_party_integrations import ensure_pyterrier_is_loaded\n",
    "from tira.rest_api_client import Client\n",
    "\n",
    "ensure_pyterrier_is_loaded()\n",
    "tira = Client()"
   ]
  },
  {
   "cell_type": "markdown",
   "metadata": {},
   "source": [
    "### Step 2: Load the dataset"
   ]
  },
  {
   "cell_type": "code",
   "execution_count": 4,
   "metadata": {},
   "outputs": [],
   "source": [
    "import pyterrier as pt\n",
    "\n",
    "pt_dataset = pt.get_dataset('irds:ir-lab-wise-2024/subsampled-ms-marco-deep-learning-20241201-training')"
   ]
  },
  {
   "cell_type": "code",
   "execution_count": 5,
   "metadata": {},
   "outputs": [],
   "source": [
    "from importlib import reload\n",
    "from typing import Iterable\n",
    "import os\n",
    "import data_cleaning\n",
    "reload(data_cleaning)\n",
    "\n",
    "class DataCleaningIter(Iterable):\n",
    "    def __init__(self, dataset_iter, cleaner_function) -> None:\n",
    "        self.dataset_iter = iter(dataset_iter)\n",
    "        self.cleaner_function = cleaner_function\n",
    "    \n",
    "    def __iter__(self):\n",
    "        return self\n",
    "    \n",
    "    def __next__(self):\n",
    "        item = next(self.dataset_iter)\n",
    "        item[\"text\"] = self.cleaner_function(item[\"text\"])\n",
    "        return item"
   ]
  },
  {
   "cell_type": "markdown",
   "metadata": {},
   "source": [
    "## Add BM25 Baseline"
   ]
  },
  {
   "cell_type": "code",
   "execution_count": 7,
   "metadata": {},
   "outputs": [
    {
     "name": "stderr",
     "output_type": "stream",
     "text": [
      "ir-lab-wise-2024/subsampled-ms-marco-deep-learning-20241201-training documents:  38%|███▊      | 25973/68261 [00:08<00:11, 3726.68it/s]"
     ]
    },
    {
     "name": "stdout",
     "output_type": "stream",
     "text": [
      "23:52:31.584 [main] WARN org.terrier.structures.indexing.Indexer - Adding an empty document to the index (6114613) - further warnings are suppressed\n"
     ]
    },
    {
     "name": "stderr",
     "output_type": "stream",
     "text": [
      "ir-lab-wise-2024/subsampled-ms-marco-deep-learning-20241201-training documents: 100%|██████████| 68261/68261 [00:19<00:00, 3424.92it/s]\n"
     ]
    },
    {
     "name": "stdout",
     "output_type": "stream",
     "text": [
      "23:52:44.604 [main] WARN org.terrier.structures.indexing.Indexer - Indexed 1 empty documents\n"
     ]
    }
   ],
   "source": [
    "experiments = []\n",
    "names = []\n",
    "data_cleaning_iter = DataCleaningIter(pt_dataset.get_corpus_iter(), lambda x: x)\n",
    "indexer = pt.IterDictIndexer(\n",
    "    index_path=os.getcwd() + os.sep + f\"index\",\n",
    "    meta={'docno': 50, 'text': 4096},\n",
    "    # If an index already exists there, then overwrite it.\n",
    "    overwrite=True,\n",
    ")\n",
    "index = indexer.index(data_cleaning_iter)\n",
    "bm25 = pt.BatchRetrieve(index, wmodel=\"BM25\")\n",
    "experiments.append(bm25)\n",
    "names.append(\"BM25\")"
   ]
  },
  {
   "cell_type": "markdown",
   "metadata": {},
   "source": [
    "## Add Tests"
   ]
  },
  {
   "cell_type": "code",
   "execution_count": null,
   "metadata": {},
   "outputs": [],
   "source": [
    "from data_cleaning import replace_spelling_mistakes\n",
    "\n",
    "\n",
    "data_cleaning_iter = DataCleaningIter(pt_dataset.get_corpus_iter(), replace_spelling_mistakes)\n",
    "indexer = pt.IterDictIndexer(\n",
    "    index_path=os.getcwd() + os.sep + f\"index-spelling\",\n",
    "    meta={'docno': 50, 'text': 4096},\n",
    "    # If an index already exists there, then overwrite it.\n",
    "    overwrite=True,\n",
    ")\n",
    "index = indexer.index(data_cleaning_iter)\n",
    "bm25_spelling = pt.BatchRetrieve(index, wmodel=\"BM25\")\n",
    "experiments.append(bm25_spelling)\n",
    "names.append(\"BM25+replace_spelling_mistakes\")"
   ]
  },
  {
   "cell_type": "markdown",
   "metadata": {},
   "source": [
    "### Step 5: Evaluate your run"
   ]
  },
  {
   "cell_type": "code",
   "execution_count": 9,
   "metadata": {},
   "outputs": [],
   "source": [
    "\n",
    "\n",
    "experiment_results = pt.Experiment(\n",
    "    experiments,\n",
    "    pt_dataset.get_topics('text'),\n",
    "    pt_dataset.get_qrels(),\n",
    "    eval_metrics = [\"map\", \"recip_rank\", \"ndcg_cut_10\", \"P_1\", \"P_5\", \"P_10\"],\n",
    "    names=names\n",
    ")"
   ]
  },
  {
   "cell_type": "code",
   "execution_count": 10,
   "metadata": {},
   "outputs": [
    {
     "data": {
      "text/html": [
       "<div>\n",
       "<style scoped>\n",
       "    .dataframe tbody tr th:only-of-type {\n",
       "        vertical-align: middle;\n",
       "    }\n",
       "\n",
       "    .dataframe tbody tr th {\n",
       "        vertical-align: top;\n",
       "    }\n",
       "\n",
       "    .dataframe thead th {\n",
       "        text-align: right;\n",
       "    }\n",
       "</style>\n",
       "<table border=\"1\" class=\"dataframe\">\n",
       "  <thead>\n",
       "    <tr style=\"text-align: right;\">\n",
       "      <th></th>\n",
       "      <th>name</th>\n",
       "      <th>map</th>\n",
       "      <th>recip_rank</th>\n",
       "      <th>ndcg_cut_10</th>\n",
       "      <th>P_1</th>\n",
       "      <th>P_5</th>\n",
       "      <th>P_10</th>\n",
       "    </tr>\n",
       "  </thead>\n",
       "  <tbody>\n",
       "    <tr>\n",
       "      <th>0</th>\n",
       "      <td>BM25</td>\n",
       "      <td>0.412718</td>\n",
       "      <td>0.786653</td>\n",
       "      <td>0.489469</td>\n",
       "      <td>0.701031</td>\n",
       "      <td>0.622680</td>\n",
       "      <td>0.574227</td>\n",
       "    </tr>\n",
       "    <tr>\n",
       "      <th>1</th>\n",
       "      <td>replace_spelling_mistakes</td>\n",
       "      <td>0.356378</td>\n",
       "      <td>0.721487</td>\n",
       "      <td>0.438045</td>\n",
       "      <td>0.628866</td>\n",
       "      <td>0.558763</td>\n",
       "      <td>0.522680</td>\n",
       "    </tr>\n",
       "  </tbody>\n",
       "</table>\n",
       "</div>"
      ],
      "text/plain": [
       "                        name       map  recip_rank  ndcg_cut_10       P_1  \\\n",
       "0                       BM25  0.412718    0.786653     0.489469  0.701031   \n",
       "1  replace_spelling_mistakes  0.356378    0.721487     0.438045  0.628866   \n",
       "\n",
       "        P_5      P_10  \n",
       "0  0.622680  0.574227  \n",
       "1  0.558763  0.522680  "
      ]
     },
     "execution_count": 10,
     "metadata": {},
     "output_type": "execute_result"
    }
   ],
   "source": [
    "experiment_results"
   ]
  }
 ],
 "metadata": {
  "kernelspec": {
   "display_name": "wir",
   "language": "python",
   "name": "python3"
  },
  "language_info": {
   "codemirror_mode": {
    "name": "ipython",
    "version": 3
   },
   "file_extension": ".py",
   "mimetype": "text/x-python",
   "name": "python",
   "nbconvert_exporter": "python",
   "pygments_lexer": "ipython3",
   "version": "3.10.15"
  }
 },
 "nbformat": 4,
 "nbformat_minor": 2
}
